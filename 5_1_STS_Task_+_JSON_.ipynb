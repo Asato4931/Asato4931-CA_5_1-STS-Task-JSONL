{
  "nbformat": 4,
  "nbformat_minor": 0,
  "metadata": {
    "colab": {
      "provenance": [],
      "mount_file_id": "1hghJi7n6vv11Rn1igNxgrx5w_uldPyBL",
      "authorship_tag": "ABX9TyN+gfdUh+1EzIbFsc1udkgW",
      "include_colab_link": true
    },
    "kernelspec": {
      "name": "python3",
      "display_name": "Python 3"
    },
    "language_info": {
      "name": "python"
    }
  },
  "cells": [
    {
      "cell_type": "markdown",
      "metadata": {
        "id": "view-in-github",
        "colab_type": "text"
      },
      "source": [
        "<a href=\"https://colab.research.google.com/github/Asato4931/Asato4931-CA_5_1-STS-Task-JSONL/blob/main/5_1_STS_Task_%2B_JSON_.ipynb\" target=\"_parent\"><img src=\"https://colab.research.google.com/assets/colab-badge.svg\" alt=\"Open In Colab\"/></a>"
      ]
    },
    {
      "cell_type": "code",
      "execution_count": null,
      "metadata": {
        "id": "eZfKmdVl5Gr0"
      },
      "outputs": [],
      "source": [
        "from transformers import AutoTokenizer\n",
        "\n",
        "from sentence_transformers import SentenceTransformer\n",
        "from sentence_transformers import models\n",
        " \n",
        "import torch\n",
        "import numpy as np\n",
        "\n",
        "import pandas as pd\n",
        "\n",
        "\n",
        "from scipy import stats\n",
        "\n",
        "# Load pre-trained tokenizer\n",
        "transformer = models.Transformer(\"cl-tohoku/bert-base-japanese-v2\")\n",
        "tokenizer = AutoTokenizer.from_pretrained(\"cl-tohoku/bert-base-japanese-v2\")\n",
        "pooling = models.Pooling(transformer.get_word_embedding_dimension(), pooling_mode_mean_tokens=True, pooling_mode_cls_token=False, pooling_mode_max_tokens=False)\n",
        "model = SentenceTransformer(modules=[transformer, pooling])\n",
        "\n",
        "\n",
        "valid_data = pd.read_json('/content/drive/MyDrive/Colab Notebooks/CA課題用/CA課題5/valid-v1.1.json', lines=True)\n",
        "\n",
        "\n",
        "valid_data = valid_data.loc[:,['sentence1','sentence2']]\n",
        "\n",
        "\n",
        "pearson = []\n",
        "spearman = []\n",
        "\n",
        "\n",
        "\n",
        "\n",
        "#Pearson\n",
        "\n",
        "for i in range(0,1457):\n",
        "  vector1_p = model.encode(valid_data.loc[i,'sentence1'])\n",
        "  vector2_p = model.encode(valid_data.loc[i,'sentence2'])\n",
        "\n",
        "  result_p= stats.pearsonr(vector1_p,vector2_p)\n",
        "  pearson.append(result_p.statistic)\n",
        "\n",
        "\n",
        "#Spearman\n",
        "\n",
        "for i in range(0,1457):\n",
        "  vector1_s = model.encode(valid_data.loc[i,'sentence1'])\n",
        "  vector2_s = model.encode(valid_data.loc[i,'sentence2'])\n",
        "\n",
        "  vector1_s = np.array(vector1_s).reshape(1,-1)\n",
        "  vector2_s = np.array(vector2_s).reshape(1,-1)\n",
        "  result_s = stats.spearmanr(vector1_s,vector2_s ,axis=None)\n",
        "  spearman.append(result_s.statistic)\n",
        "\n",
        "pearson_df = pd.DataFrame(pearson)\n",
        "pearson_df = pearson_df * 5\n",
        "pearson_df[\"metrics\"] = \"pearson\"\n",
        "pearson_df = pearson_df.rename(columns= { pearson_df.columns[0]: \"score\"})\n",
        "pearson_df = pearson_df.reindex(columns=['metrics', 'score'])\n",
        "\n",
        "\n",
        "\n",
        "spearman_df = pd.DataFrame(spearman)\n",
        "spearman_df = spearman_df * 5\n",
        "spearman_df[\"metrics\"] = \"spearman\"\n",
        "spearman_df = spearman_df.rename(columns= { spearman_df.columns[0]: \"score\"})\n",
        "spearman_df = spearman_df.reindex(columns=['metrics', 'score'])\n",
        "\n",
        "\n",
        "frames = [pearson_df,spearman_df]\n",
        "\n",
        "result_5_1 = pd.concat(frames)\n",
        "\n",
        "result_5_1.to_json('/content/drive/MyDrive/Colab Notebooks/CA課題用/CA課題5/CA_5_1 STS Task Results.jsonl', force_ascii=False, lines = True, orient='records' )\n"
      ]
    },
    {
      "cell_type": "code",
      "source": [],
      "metadata": {
        "id": "pybXBC58paG8"
      },
      "execution_count": null,
      "outputs": []
    },
    {
      "cell_type": "code",
      "source": [
        "!pip install -U sentence-transformers\n",
        "\n",
        "!apt-get install mecab mecab-ipadic-utf8 python-mecab libmecab-dev\n",
        "!pip install mecab-python3 \n",
        "\n",
        "!pip install fugashi\n",
        "\n",
        "!pip install unidic_lite"
      ],
      "metadata": {
        "id": "1v5wEfDNsA2v"
      },
      "execution_count": null,
      "outputs": []
    }
  ]
}